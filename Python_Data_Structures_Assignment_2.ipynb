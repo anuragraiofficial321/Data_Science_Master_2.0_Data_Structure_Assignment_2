{
 "cells": [
  {
   "cell_type": "markdown",
   "id": "db5c5db7",
   "metadata": {},
   "source": [
    "### Q1. How do you comment code in Python? What are the different types of comments?\n",
    "\n",
    "- Commenting code in Python is essential to enhance code readability and understanding for other developers and viewers. \n",
    "\n",
    "### Python provides two types of comments:\n",
    "\n",
    "#### Single Line comment using the hash symbol (#):\n",
    "\n",
    "- To add a comment on a single line, we can use the \"#\" symbol. Anything after the \"#\" on the same line is considered a comment and is ignored by the Python interpreter.\n",
    "#### Multiple Line comment using Triple quotes (''' '''):\n",
    "\n",
    "- For commenting multiple lines, we can use triple quotes (''' '''). Anything between the triple quotes is treated as a comment and will not be executed.We can comment the Multiple line using ''' ''' (Triple Quotes).\n",
    "\n",
    "### Example:"
   ]
  },
  {
   "cell_type": "code",
   "execution_count": 2,
   "id": "cd3f2493",
   "metadata": {},
   "outputs": [
    {
     "name": "stdout",
     "output_type": "stream",
     "text": [
      "49\n"
     ]
    }
   ],
   "source": [
    "a = 7  # Declare a variable 'a' and assign the value 7 to it\n",
    "\n",
    "'''I am calculating the square of \n",
    "a variable(a) with the help of ** Exponential Operator'''\n",
    "\n",
    "# The above comment is a multi-line comment using triple quotes (''' ''').\n",
    "# It provides an explanation of the following code.\n",
    "\n",
    "print(a**2)  # Calculate the square of 'a' using the exponential operator and print the result.\n"
   ]
  },
  {
   "cell_type": "markdown",
   "id": "792d5d50",
   "metadata": {},
   "source": [
    "### Q2. What are variables in Python? How do you declare and assign values to variables?\n",
    "\n",
    "- A variable is a location in memory used to store some data (value).\n",
    "\n",
    "- They are given unique names to differentiate between different memory locations. \n",
    "\n",
    "- The rules for writing a variable name is same as the rules for writing identifiers in Python.\n",
    "\n",
    "- We don't need to declare a variable before using it. In Python, we simply assign a value to a variable and it will exist.\n",
    "\n",
    "- We don't even have to declare the type of the variable. This is handled internally according to the type of value we assign to the variable.\n",
    "\n",
    "### Variable Assignment:"
   ]
  },
  {
   "cell_type": "code",
   "execution_count": null,
   "id": "134f908c",
   "metadata": {},
   "outputs": [],
   "source": [
    "#We use the assignment operator (=) to assign values to a variable\n",
    "\n",
    "a = 10\n",
    "b = 5.5\n",
    "c = \"ML\""
   ]
  },
  {
   "cell_type": "markdown",
   "id": "f5d59088",
   "metadata": {},
   "source": [
    "### Multiple Assignments"
   ]
  },
  {
   "cell_type": "code",
   "execution_count": 3,
   "id": "91fdf2ea",
   "metadata": {},
   "outputs": [],
   "source": [
    "a, b, c = 10, 5.5, \"ML\""
   ]
  },
  {
   "cell_type": "code",
   "execution_count": 4,
   "id": "29f29b92",
   "metadata": {},
   "outputs": [],
   "source": [
    "a = b = c = \"AI\" #assign the same value to multiple variables at once"
   ]
  },
  {
   "cell_type": "markdown",
   "id": "0e2e4bfe",
   "metadata": {},
   "source": [
    "### Q3. How do you convert one data type to another in Python?\n",
    "- We can convert between different data types by using different type conversion functions like int(), float(), str() etc.\n"
   ]
  },
  {
   "cell_type": "code",
   "execution_count": 5,
   "id": "bbb028ec",
   "metadata": {},
   "outputs": [
    {
     "data": {
      "text/plain": [
       "5.0"
      ]
     },
     "execution_count": 5,
     "metadata": {},
     "output_type": "execute_result"
    }
   ],
   "source": [
    "float(5)     #convert interger to float using float() method"
   ]
  },
  {
   "cell_type": "code",
   "execution_count": 6,
   "id": "b9d6bd19",
   "metadata": {},
   "outputs": [
    {
     "data": {
      "text/plain": [
       "100"
      ]
     },
     "execution_count": 6,
     "metadata": {},
     "output_type": "execute_result"
    }
   ],
   "source": [
    "int(100.5)   #convert float to integer using int() method"
   ]
  },
  {
   "cell_type": "code",
   "execution_count": 7,
   "id": "fe788228",
   "metadata": {},
   "outputs": [
    {
     "data": {
      "text/plain": [
       "'20'"
      ]
     },
     "execution_count": 7,
     "metadata": {},
     "output_type": "execute_result"
    }
   ],
   "source": [
    "str(20)      #convert integer to string"
   ]
  },
  {
   "cell_type": "markdown",
   "id": "5aa8872f",
   "metadata": {},
   "source": [
    "### Conversion to and from string must contain compatible values."
   ]
  },
  {
   "cell_type": "code",
   "execution_count": 8,
   "id": "e6f6f200",
   "metadata": {},
   "outputs": [
    {
     "ename": "ValueError",
     "evalue": "invalid literal for int() with base 10: '10p'",
     "output_type": "error",
     "traceback": [
      "\u001b[1;31m---------------------------------------------------------------------------\u001b[0m",
      "\u001b[1;31mValueError\u001b[0m                                Traceback (most recent call last)",
      "Cell \u001b[1;32mIn[8], line 1\u001b[0m\n\u001b[1;32m----> 1\u001b[0m \u001b[38;5;28;43mint\u001b[39;49m\u001b[43m(\u001b[49m\u001b[38;5;124;43m'\u001b[39;49m\u001b[38;5;124;43m10p\u001b[39;49m\u001b[38;5;124;43m'\u001b[39;49m\u001b[43m)\u001b[49m\n",
      "\u001b[1;31mValueError\u001b[0m: invalid literal for int() with base 10: '10p'"
     ]
    }
   ],
   "source": [
    "int('10p')"
   ]
  },
  {
   "cell_type": "markdown",
   "id": "8e09b0fb",
   "metadata": {},
   "source": [
    "### Example:"
   ]
  },
  {
   "cell_type": "code",
   "execution_count": 9,
   "id": "0e431918",
   "metadata": {},
   "outputs": [
    {
     "name": "stdout",
     "output_type": "stream",
     "text": [
      "Congratulations, Anurag! You just wrote 100 lines of code\n"
     ]
    }
   ],
   "source": [
    "user = \"Anurag\"\n",
    "lines = 100\n",
    "\n",
    "print(\"Congratulations, \" + user + \"! You just wrote \" + str(lines) + \" lines of code\" )\n",
    "#remove str and gives error"
   ]
  },
  {
   "cell_type": "markdown",
   "id": "8fb347f5",
   "metadata": {},
   "source": [
    "### We can convert one sequence to other"
   ]
  },
  {
   "cell_type": "code",
   "execution_count": 10,
   "id": "36242644",
   "metadata": {},
   "outputs": [
    {
     "name": "stdout",
     "output_type": "stream",
     "text": [
      "<class 'list'>\n",
      "<class 'set'>\n"
     ]
    }
   ],
   "source": [
    "a = [1, 2, 3]\n",
    "\n",
    "print(type(a))      #type of a is list \n",
    "\n",
    "s = set(a)          #convert list to set using set() method\n",
    "\n",
    "print(type(s))      #now type of s is set"
   ]
  },
  {
   "cell_type": "code",
   "execution_count": 11,
   "id": "f6e1cfd5",
   "metadata": {},
   "outputs": [
    {
     "data": {
      "text/plain": [
       "['H', 'e', 'l', 'l', 'o']"
      ]
     },
     "execution_count": 11,
     "metadata": {},
     "output_type": "execute_result"
    }
   ],
   "source": [
    "list(\"Hello\")       #convert String to list using list() method"
   ]
  },
  {
   "cell_type": "markdown",
   "id": "ef81e7a7",
   "metadata": {},
   "source": [
    "### Q4. How do you write and execute a Python script from the command line?\n",
    "\n",
    "- Step1:In this mode, we can write Python code in a script file with a .py extension with the help of any editor for example:VS Code,PyCharm and Python IDLE etc.\n",
    "\n",
    "- Step 2:Suppose the the file name is hellp.py\n",
    "\n",
    "- Step 3:We can use Command Prompt or Anaconda prompt to run the .py file just write python \"name of file with full path or we can locate the file location using cd command\"\n",
    "\n",
    "#### Example: python hello.py"
   ]
  },
  {
   "cell_type": "markdown",
   "id": "fda39ffb",
   "metadata": {},
   "source": [
    "### Q5. Given a list my_list = [1, 2, 3, 4, 5], write the code to slice the list and obtain the sub-list [2, 3]."
   ]
  },
  {
   "cell_type": "code",
   "execution_count": 14,
   "id": "45f42107",
   "metadata": {},
   "outputs": [
    {
     "name": "stdout",
     "output_type": "stream",
     "text": [
      "[2, 3]\n",
      "[2, 3]\n"
     ]
    }
   ],
   "source": [
    "# First method\n",
    "my_list=[1,2,3,4,5]\n",
    "print(my_list[1:3])     #We can use sliciing to obtain the sub_list\n",
    "\n",
    "\n",
    "#Second Method\n",
    "sub_list=[]\n",
    "for i,ele in enumerate(my_list):\n",
    "    if i>=1 and i<=2:\n",
    "        sub_list.append(ele)\n",
    "print(sub_list)\n",
    "    "
   ]
  },
  {
   "cell_type": "markdown",
   "id": "be3fc29f",
   "metadata": {},
   "source": [
    "### Q6. What is a complex number in mathematics, and how is it represented in Python?\n",
    "\n",
    "#### A complex number is a number of the form \"a + bi\", where \"a\" and \"b\" are real numbers, and \"i\" is the imaginary unit\n",
    "- The real part \"a\" represents the horizontal axis, while the imaginary part \"bi\" represents the vertical axis in the complex plane.\n",
    "\n",
    "#### The general form of a complex number is: z = a + bi\n",
    "\n",
    "- \"a\" is the real part of the complex number.\n",
    "- \"b\" is the imaginary part of the complex number.\n",
    "- \"i\" is the imaginary unit.\n",
    "\n",
    "#### Python supports complex numbers as a built-in data type. Complex numbers can be represented in Python using the \"j\" suffix to denote the imaginary part"
   ]
  },
  {
   "cell_type": "code",
   "execution_count": 15,
   "id": "ed546f7e",
   "metadata": {},
   "outputs": [],
   "source": [
    "#complex number with real and imaginary parts\n",
    "z = 3 + 2j\n"
   ]
  },
  {
   "cell_type": "markdown",
   "id": "578048b3",
   "metadata": {},
   "source": [
    "### Q7. What is the correct way to declare a variable named age and assign the value 25 to it?\n",
    "\n",
    "- We don't need to declare a variable before using it. In Python, we simply assign a value to a variable and it will exist.\n",
    "\n",
    "- We don't even have to declare the type of the variable. This is handled internally according to the type of value we assign to the variable.\n",
    "\n",
    "Example:\n",
    "- Correct way to declare variable:"
   ]
  },
  {
   "cell_type": "code",
   "execution_count": 16,
   "id": "13ad07d6",
   "metadata": {},
   "outputs": [],
   "source": [
    "age=25"
   ]
  },
  {
   "cell_type": "markdown",
   "id": "04ef7428",
   "metadata": {},
   "source": [
    "### Q8. Declare a variable named price and assign the value 9.99 to it. What data type does this variable belong to?"
   ]
  },
  {
   "cell_type": "code",
   "execution_count": 17,
   "id": "93cd170e",
   "metadata": {},
   "outputs": [
    {
     "name": "stdout",
     "output_type": "stream",
     "text": [
      "<class 'float'>\n"
     ]
    }
   ],
   "source": [
    "#Declare a Variable\n",
    "price=9.99  #In python this is a float data types \n",
    "\n",
    "'''We can check the types of data using type() \n",
    "function in python'''\n",
    "\n",
    "print(type(price))"
   ]
  },
  {
   "cell_type": "markdown",
   "id": "e537cea9",
   "metadata": {},
   "source": [
    "### Q9. Create a variable named name and assign your full name to it as a string. How would you print thevalue of this variable?"
   ]
  },
  {
   "cell_type": "code",
   "execution_count": 21,
   "id": "6be3e1ac",
   "metadata": {},
   "outputs": [
    {
     "name": "stdout",
     "output_type": "stream",
     "text": [
      "Anurag rai\n",
      "My name is Anurag rai\n",
      "My name is Anurag rai\n",
      "My name is Anurag rai\n"
     ]
    }
   ],
   "source": [
    "# Declare a variable with string\n",
    "name=\"Anurag rai\"\n",
    "\n",
    "#Different ways to print the variable:\n",
    "\n",
    "#first way\n",
    "print(name)\n",
    "\n",
    "#Second way\n",
    "print(f\"My name is {name}\")  \n",
    "\n",
    "#Third way\n",
    "print(\"My name is {0}\".format(name))\n",
    "\n",
    "#Forth way\n",
    "print(\"My name is\",str(name))"
   ]
  },
  {
   "cell_type": "markdown",
   "id": "de1098bd",
   "metadata": {},
   "source": [
    "### Q10. Given the string \"Hello, World!\", extract the substring \"World"
   ]
  },
  {
   "cell_type": "code",
   "execution_count": 22,
   "id": "90d96ebb",
   "metadata": {},
   "outputs": [
    {
     "name": "stdout",
     "output_type": "stream",
     "text": [
      "World\n"
     ]
    }
   ],
   "source": [
    "# Extracting World from Hello, World!\n",
    "prstring=\"Hello, World!\"\n",
    "print(prstring[7:12])"
   ]
  },
  {
   "cell_type": "markdown",
   "id": "5da1e7a3",
   "metadata": {},
   "source": [
    "### Q11. Create a variable named \"is_student\" and assign it a boolean value indicating whether you arecurrently a student or not."
   ]
  },
  {
   "cell_type": "code",
   "execution_count": 24,
   "id": "6b532012",
   "metadata": {},
   "outputs": [
    {
     "name": "stdout",
     "output_type": "stream",
     "text": [
      "You Are A Student\n"
     ]
    }
   ],
   "source": [
    "is_student = True\n",
    "if is_student:\n",
    "    print(\"You Are A Student\")\n",
    "elif not is_student:\n",
    "    print(\"You Are Not A Student\")"
   ]
  },
  {
   "cell_type": "code",
   "execution_count": null,
   "id": "7c3efc0e",
   "metadata": {},
   "outputs": [],
   "source": []
  }
 ],
 "metadata": {
  "kernelspec": {
   "display_name": "Python 3 (ipykernel)",
   "language": "python",
   "name": "python3"
  },
  "language_info": {
   "codemirror_mode": {
    "name": "ipython",
    "version": 3
   },
   "file_extension": ".py",
   "mimetype": "text/x-python",
   "name": "python",
   "nbconvert_exporter": "python",
   "pygments_lexer": "ipython3",
   "version": "3.10.9"
  }
 },
 "nbformat": 4,
 "nbformat_minor": 5
}
